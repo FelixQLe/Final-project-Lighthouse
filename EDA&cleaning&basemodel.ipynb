{
 "cells": [
  {
   "cell_type": "code",
   "execution_count": 1,
   "id": "d5eb7a54",
   "metadata": {},
   "outputs": [],
   "source": [
    "import numpy as np\n",
    "import pandas as pd\n",
    "#import pandas_profiling\n",
    "\n",
    "%matplotlib inline\n",
    "import matplotlib.pyplot as plt\n",
    "plt.style.use('seaborn-whitegrid')\n",
    "import seaborn as sns"
   ]
  },
  {
   "cell_type": "code",
   "execution_count": 2,
   "id": "2c58ee63",
   "metadata": {},
   "outputs": [
    {
     "name": "stdout",
     "output_type": "stream",
     "text": [
      "Train dataframe has shape: (31390, 5)\n",
      "Test dataframe has shape: (2413, 4)\n"
     ]
    },
    {
     "data": {
      "text/html": [
       "<div>\n",
       "<style scoped>\n",
       "    .dataframe tbody tr th:only-of-type {\n",
       "        vertical-align: middle;\n",
       "    }\n",
       "\n",
       "    .dataframe tbody tr th {\n",
       "        vertical-align: top;\n",
       "    }\n",
       "\n",
       "    .dataframe thead th {\n",
       "        text-align: right;\n",
       "    }\n",
       "</style>\n",
       "<table border=\"1\" class=\"dataframe\">\n",
       "  <thead>\n",
       "    <tr style=\"text-align: right;\">\n",
       "      <th></th>\n",
       "      <th>seq_id</th>\n",
       "      <th>protein_sequence</th>\n",
       "      <th>pH</th>\n",
       "      <th>data_source</th>\n",
       "      <th>tm</th>\n",
       "    </tr>\n",
       "  </thead>\n",
       "  <tbody>\n",
       "    <tr>\n",
       "      <th>0</th>\n",
       "      <td>0</td>\n",
       "      <td>AAAAKAAALALLGEAPEVVDIWLPAGWRQPFRVFRLERKGDGVLVG...</td>\n",
       "      <td>7.0</td>\n",
       "      <td>doi.org/10.1038/s41592-020-0801-4</td>\n",
       "      <td>75.7</td>\n",
       "    </tr>\n",
       "    <tr>\n",
       "      <th>1</th>\n",
       "      <td>1</td>\n",
       "      <td>AAADGEPLHNEEERAGAGQVGRSLPQESEEQRTGSRPRRRRDLGSR...</td>\n",
       "      <td>7.0</td>\n",
       "      <td>doi.org/10.1038/s41592-020-0801-4</td>\n",
       "      <td>50.5</td>\n",
       "    </tr>\n",
       "    <tr>\n",
       "      <th>2</th>\n",
       "      <td>2</td>\n",
       "      <td>AAAFSTPRATSYRILSSAGSGSTRADAPQVRRLHTTRDLLAKDYYA...</td>\n",
       "      <td>7.0</td>\n",
       "      <td>doi.org/10.1038/s41592-020-0801-4</td>\n",
       "      <td>40.5</td>\n",
       "    </tr>\n",
       "    <tr>\n",
       "      <th>3</th>\n",
       "      <td>3</td>\n",
       "      <td>AAASGLRTAIPAQPLRHLLQPAPRPCLRPFGLLSVRAGSARRSGLL...</td>\n",
       "      <td>7.0</td>\n",
       "      <td>doi.org/10.1038/s41592-020-0801-4</td>\n",
       "      <td>47.2</td>\n",
       "    </tr>\n",
       "    <tr>\n",
       "      <th>4</th>\n",
       "      <td>4</td>\n",
       "      <td>AAATKSGPRRQSQGASVRTFTPFYFLVEPVDTLSVRGSSVILNCSA...</td>\n",
       "      <td>7.0</td>\n",
       "      <td>doi.org/10.1038/s41592-020-0801-4</td>\n",
       "      <td>49.5</td>\n",
       "    </tr>\n",
       "  </tbody>\n",
       "</table>\n",
       "</div>"
      ],
      "text/plain": [
       "   seq_id                                   protein_sequence   pH  \\\n",
       "0       0  AAAAKAAALALLGEAPEVVDIWLPAGWRQPFRVFRLERKGDGVLVG...  7.0   \n",
       "1       1  AAADGEPLHNEEERAGAGQVGRSLPQESEEQRTGSRPRRRRDLGSR...  7.0   \n",
       "2       2  AAAFSTPRATSYRILSSAGSGSTRADAPQVRRLHTTRDLLAKDYYA...  7.0   \n",
       "3       3  AAASGLRTAIPAQPLRHLLQPAPRPCLRPFGLLSVRAGSARRSGLL...  7.0   \n",
       "4       4  AAATKSGPRRQSQGASVRTFTPFYFLVEPVDTLSVRGSSVILNCSA...  7.0   \n",
       "\n",
       "                         data_source    tm  \n",
       "0  doi.org/10.1038/s41592-020-0801-4  75.7  \n",
       "1  doi.org/10.1038/s41592-020-0801-4  50.5  \n",
       "2  doi.org/10.1038/s41592-020-0801-4  40.5  \n",
       "3  doi.org/10.1038/s41592-020-0801-4  47.2  \n",
       "4  doi.org/10.1038/s41592-020-0801-4  49.5  "
      ]
     },
     "metadata": {},
     "output_type": "display_data"
    },
    {
     "data": {
      "text/html": [
       "<div>\n",
       "<style scoped>\n",
       "    .dataframe tbody tr th:only-of-type {\n",
       "        vertical-align: middle;\n",
       "    }\n",
       "\n",
       "    .dataframe tbody tr th {\n",
       "        vertical-align: top;\n",
       "    }\n",
       "\n",
       "    .dataframe thead th {\n",
       "        text-align: right;\n",
       "    }\n",
       "</style>\n",
       "<table border=\"1\" class=\"dataframe\">\n",
       "  <thead>\n",
       "    <tr style=\"text-align: right;\">\n",
       "      <th></th>\n",
       "      <th>seq_id</th>\n",
       "      <th>protein_sequence</th>\n",
       "      <th>pH</th>\n",
       "      <th>data_source</th>\n",
       "    </tr>\n",
       "  </thead>\n",
       "  <tbody>\n",
       "    <tr>\n",
       "      <th>0</th>\n",
       "      <td>31390</td>\n",
       "      <td>VPVNPEPDATSVENVAEKTGSGDSQSDPIKADLEVKGQSALPFDVD...</td>\n",
       "      <td>8</td>\n",
       "      <td>Novozymes</td>\n",
       "    </tr>\n",
       "    <tr>\n",
       "      <th>1</th>\n",
       "      <td>31391</td>\n",
       "      <td>VPVNPEPDATSVENVAKKTGSGDSQSDPIKADLEVKGQSALPFDVD...</td>\n",
       "      <td>8</td>\n",
       "      <td>Novozymes</td>\n",
       "    </tr>\n",
       "    <tr>\n",
       "      <th>2</th>\n",
       "      <td>31392</td>\n",
       "      <td>VPVNPEPDATSVENVAKTGSGDSQSDPIKADLEVKGQSALPFDVDC...</td>\n",
       "      <td>8</td>\n",
       "      <td>Novozymes</td>\n",
       "    </tr>\n",
       "    <tr>\n",
       "      <th>3</th>\n",
       "      <td>31393</td>\n",
       "      <td>VPVNPEPDATSVENVALCTGSGDSQSDPIKADLEVKGQSALPFDVD...</td>\n",
       "      <td>8</td>\n",
       "      <td>Novozymes</td>\n",
       "    </tr>\n",
       "    <tr>\n",
       "      <th>4</th>\n",
       "      <td>31394</td>\n",
       "      <td>VPVNPEPDATSVENVALFTGSGDSQSDPIKADLEVKGQSALPFDVD...</td>\n",
       "      <td>8</td>\n",
       "      <td>Novozymes</td>\n",
       "    </tr>\n",
       "  </tbody>\n",
       "</table>\n",
       "</div>"
      ],
      "text/plain": [
       "   seq_id                                   protein_sequence  pH data_source\n",
       "0   31390  VPVNPEPDATSVENVAEKTGSGDSQSDPIKADLEVKGQSALPFDVD...   8   Novozymes\n",
       "1   31391  VPVNPEPDATSVENVAKKTGSGDSQSDPIKADLEVKGQSALPFDVD...   8   Novozymes\n",
       "2   31392  VPVNPEPDATSVENVAKTGSGDSQSDPIKADLEVKGQSALPFDVDC...   8   Novozymes\n",
       "3   31393  VPVNPEPDATSVENVALCTGSGDSQSDPIKADLEVKGQSALPFDVD...   8   Novozymes\n",
       "4   31394  VPVNPEPDATSVENVALFTGSGDSQSDPIKADLEVKGQSALPFDVD...   8   Novozymes"
      ]
     },
     "metadata": {},
     "output_type": "display_data"
    }
   ],
   "source": [
    "train_df = pd.read_csv('data/train.csv')\n",
    "test_df = pd.read_csv('data/test.csv')\n",
    "print(f\"Train dataframe has shape: {train_df.shape}\")\n",
    "print(f\"Test dataframe has shape: {test_df.shape}\")\n",
    "display(train_df.head())\n",
    "display(test_df.head())"
   ]
  },
  {
   "cell_type": "code",
   "execution_count": 3,
   "id": "aeea420a",
   "metadata": {},
   "outputs": [
    {
     "data": {
      "text/html": [
       "<div>\n",
       "<style scoped>\n",
       "    .dataframe tbody tr th:only-of-type {\n",
       "        vertical-align: middle;\n",
       "    }\n",
       "\n",
       "    .dataframe tbody tr th {\n",
       "        vertical-align: top;\n",
       "    }\n",
       "\n",
       "    .dataframe thead th {\n",
       "        text-align: right;\n",
       "    }\n",
       "</style>\n",
       "<table border=\"1\" class=\"dataframe\">\n",
       "  <thead>\n",
       "    <tr style=\"text-align: right;\">\n",
       "      <th></th>\n",
       "      <th>seq_id</th>\n",
       "      <th>pH</th>\n",
       "      <th>tm</th>\n",
       "    </tr>\n",
       "  </thead>\n",
       "  <tbody>\n",
       "    <tr>\n",
       "      <th>count</th>\n",
       "      <td>31390.000000</td>\n",
       "      <td>31104.000000</td>\n",
       "      <td>31390.000000</td>\n",
       "    </tr>\n",
       "    <tr>\n",
       "      <th>mean</th>\n",
       "      <td>15694.500000</td>\n",
       "      <td>6.892339</td>\n",
       "      <td>49.147337</td>\n",
       "    </tr>\n",
       "    <tr>\n",
       "      <th>std</th>\n",
       "      <td>9061.656811</td>\n",
       "      <td>1.612225</td>\n",
       "      <td>14.010089</td>\n",
       "    </tr>\n",
       "    <tr>\n",
       "      <th>min</th>\n",
       "      <td>0.000000</td>\n",
       "      <td>1.990000</td>\n",
       "      <td>-1.000000</td>\n",
       "    </tr>\n",
       "    <tr>\n",
       "      <th>25%</th>\n",
       "      <td>7847.250000</td>\n",
       "      <td>7.000000</td>\n",
       "      <td>42.100000</td>\n",
       "    </tr>\n",
       "    <tr>\n",
       "      <th>50%</th>\n",
       "      <td>15694.500000</td>\n",
       "      <td>7.000000</td>\n",
       "      <td>48.000000</td>\n",
       "    </tr>\n",
       "    <tr>\n",
       "      <th>75%</th>\n",
       "      <td>23541.750000</td>\n",
       "      <td>7.000000</td>\n",
       "      <td>53.800000</td>\n",
       "    </tr>\n",
       "    <tr>\n",
       "      <th>max</th>\n",
       "      <td>31389.000000</td>\n",
       "      <td>64.900000</td>\n",
       "      <td>130.000000</td>\n",
       "    </tr>\n",
       "  </tbody>\n",
       "</table>\n",
       "</div>"
      ],
      "text/plain": [
       "             seq_id            pH            tm\n",
       "count  31390.000000  31104.000000  31390.000000\n",
       "mean   15694.500000      6.892339     49.147337\n",
       "std     9061.656811      1.612225     14.010089\n",
       "min        0.000000      1.990000     -1.000000\n",
       "25%     7847.250000      7.000000     42.100000\n",
       "50%    15694.500000      7.000000     48.000000\n",
       "75%    23541.750000      7.000000     53.800000\n",
       "max    31389.000000     64.900000    130.000000"
      ]
     },
     "execution_count": 3,
     "metadata": {},
     "output_type": "execute_result"
    }
   ],
   "source": [
    "train_df.describe()"
   ]
  },
  {
   "cell_type": "code",
   "execution_count": 4,
   "id": "497a95e9",
   "metadata": {},
   "outputs": [
    {
     "data": {
      "text/plain": [
       "seq_id               0.000000\n",
       "protein_sequence     0.000000\n",
       "pH                   0.911118\n",
       "data_source         10.662631\n",
       "tm                   0.000000\n",
       "dtype: float64"
      ]
     },
     "execution_count": 4,
     "metadata": {},
     "output_type": "execute_result"
    }
   ],
   "source": [
    "#check Nan values\n",
    "train_df.isnull().sum()/train_df.shape[0]*100"
   ]
  },
  {
   "cell_type": "markdown",
   "id": "f6a2d26c",
   "metadata": {},
   "source": [
    "less than 1% of Nan values in pH feature, I will drop this Nan value from our data for the sake of predictions"
   ]
  },
  {
   "cell_type": "markdown",
   "id": "47fa1a36",
   "metadata": {},
   "source": [
    "### Analyzing the protein sequence length"
   ]
  },
  {
   "cell_type": "code",
   "execution_count": 5,
   "id": "d410655e",
   "metadata": {},
   "outputs": [],
   "source": [
    "#create column protein_seq_length for train and test df\n",
    "train_df[\"protein_seq_length\"] = train_df[\"protein_sequence\"].apply(lambda x: len(x))\n",
    "test_df[\"protein_seq_length\"] = test_df[\"protein_sequence\"].apply(lambda x: len(x))"
   ]
  },
  {
   "cell_type": "code",
   "execution_count": 6,
   "id": "26537a03",
   "metadata": {},
   "outputs": [
    {
     "data": {
      "image/png": "[encoded data removed]",
      "text/plain": [
       "<Figure size 640x480 with 1 Axes>"
      ]
     },
     "metadata": {},
     "output_type": "display_data"
    }
   ],
   "source": [
    "#ploting protein seq length in train dataset\n",
    "sns.scatterplot(data=train_df,\n",
    "                x=\"protein_seq_length\",\n",
    "                y='tm')\n",
    "plt.title(\"sequence length distribution in train dataset\")\n",
    "plt.show()"
   ]
  },
  {
   "cell_type": "code",
   "execution_count": 7,
   "id": "da7b9349",
   "metadata": {},
   "outputs": [
    {
     "data": {
      "image/png": "[encoded data removed]",
      "text/plain": [
       "<Figure size 700x500 with 1 Axes>"
      ]
     },
     "metadata": {},
     "output_type": "display_data"
    }
   ],
   "source": [
    "#plotting protein sequence length in test data\n",
    "sns.displot(data=test_df,\n",
    "           x='protein_seq_length',\n",
    "           kind='hist',\n",
    "           aspect=1.4)\n",
    "plt.title(\"Sequence length distribution in test dataset\")\n",
    "plt.ylim(0, 2000)\n",
    "plt.show()"
   ]
  },
  {
   "cell_type": "code",
   "execution_count": 8,
   "id": "6bf48098",
   "metadata": {},
   "outputs": [
    {
     "name": "stdout",
     "output_type": "stream",
     "text": [
      "------ TRAIN SET--------\n"
     ]
    },
    {
     "data": {
      "text/plain": [
       "count    31390.000000\n",
       "mean       447.669513\n",
       "std        640.728935\n",
       "min          5.000000\n",
       "25%        197.000000\n",
       "50%        336.000000\n",
       "75%        523.000000\n",
       "max      32767.000000\n",
       "Name: protein_seq_length, dtype: float64"
      ]
     },
     "metadata": {},
     "output_type": "display_data"
    },
    {
     "name": "stdout",
     "output_type": "stream",
     "text": [
      "------- TEST SET--------\n"
     ]
    },
    {
     "data": {
      "text/plain": [
       "count    2413.000000\n",
       "mean      220.968090\n",
       "std         0.175798\n",
       "min       220.000000\n",
       "25%       221.000000\n",
       "50%       221.000000\n",
       "75%       221.000000\n",
       "max       221.000000\n",
       "Name: protein_seq_length, dtype: float64"
      ]
     },
     "metadata": {},
     "output_type": "display_data"
    }
   ],
   "source": [
    "print(\"------ TRAIN SET--------\")\n",
    "display(train_df[\"protein_seq_length\"].describe())\n",
    "print(\"------- TEST SET--------\")\n",
    "display(test_df[\"protein_seq_length\"].describe())"
   ]
  },
  {
   "cell_type": "markdown",
   "id": "aa9d35e2",
   "metadata": {},
   "source": [
    "* The protein sequence length in our train dataset vary from 5 to 32,767 letter while the test dataset is constant having either 220 or 221. Let's keep discovering other problems in our dataset if it exists."
   ]
  },
  {
   "cell_type": "markdown",
   "id": "b54e1ad7",
   "metadata": {},
   "source": [
    "### Analyzing the pH"
   ]
  },
  {
   "cell_type": "code",
   "execution_count": 9,
   "id": "60cdfb3e",
   "metadata": {},
   "outputs": [
    {
     "data": {
      "image/png": "[encoded data removed]",
      "text/plain": [
       "<Figure size 640x480 with 1 Axes>"
      ]
     },
     "metadata": {},
     "output_type": "display_data"
    }
   ],
   "source": [
    "#plotting pH level in train data\n",
    "sns.scatterplot(data=train_df, x='pH', y='tm')\n",
    "plt.title(\"pH level in train data\")\n",
    "plt.show();"
   ]
  },
  {
   "cell_type": "code",
   "execution_count": 10,
   "id": "491b0438",
   "metadata": {},
   "outputs": [
    {
     "data": {
      "image/png": "[encoded data removed]",
      "text/plain": [
       "<Figure size 640x480 with 1 Axes>"
      ]
     },
     "metadata": {},
     "output_type": "display_data"
    }
   ],
   "source": [
    "#plotting pH level in test data\n",
    "sns.scatterplot(data=test_df,\n",
    "                x='pH',\n",
    "                y=train_df.tm)\n",
    "plt.title(\"pH level in test data\")\n",
    "plt.show();"
   ]
  },
  {
   "cell_type": "markdown",
   "id": "f1fd8acb",
   "metadata": {},
   "source": [
    "* pH is a measure of how acidic/basic water is. The range goes from 0 - 14, with 7 being neutral as we can see in our test data. However, in our train data there are some data points with pH level over 14. This is probably an issue with our train data. Let see train data pH values"
   ]
  },
  {
   "cell_type": "code",
   "execution_count": 11,
   "id": "f040e44f",
   "metadata": {},
   "outputs": [
    {
     "data": {
      "text/html": [
       "<div>\n",
       "<style scoped>\n",
       "    .dataframe tbody tr th:only-of-type {\n",
       "        vertical-align: middle;\n",
       "    }\n",
       "\n",
       "    .dataframe tbody tr th {\n",
       "        vertical-align: top;\n",
       "    }\n",
       "\n",
       "    .dataframe thead th {\n",
       "        text-align: right;\n",
       "    }\n",
       "</style>\n",
       "<table border=\"1\" class=\"dataframe\">\n",
       "  <thead>\n",
       "    <tr style=\"text-align: right;\">\n",
       "      <th></th>\n",
       "      <th>seq_id</th>\n",
       "      <th>protein_sequence</th>\n",
       "      <th>pH</th>\n",
       "      <th>data_source</th>\n",
       "      <th>tm</th>\n",
       "      <th>protein_seq_length</th>\n",
       "    </tr>\n",
       "  </thead>\n",
       "  <tbody>\n",
       "    <tr>\n",
       "      <th>973</th>\n",
       "      <td>973</td>\n",
       "      <td>DTSGTVCLSALPPEATDTLNLIASDGPFPYSQDGVVFQNRESVLPT...</td>\n",
       "      <td>48.4</td>\n",
       "      <td>NaN</td>\n",
       "      <td>7.0</td>\n",
       "      <td>96</td>\n",
       "    </tr>\n",
       "    <tr>\n",
       "      <th>986</th>\n",
       "      <td>986</td>\n",
       "      <td>DVSGTVCLSALPPEATDTLNLIASDGPFPYSQDGVTFQNRESVLPT...</td>\n",
       "      <td>48.4</td>\n",
       "      <td>NaN</td>\n",
       "      <td>7.0</td>\n",
       "      <td>96</td>\n",
       "    </tr>\n",
       "    <tr>\n",
       "      <th>988</th>\n",
       "      <td>988</td>\n",
       "      <td>DVSGTVCLSALPPEATDTLNLIASDGPFPYSQDGVVFANRESVLPT...</td>\n",
       "      <td>49.0</td>\n",
       "      <td>NaN</td>\n",
       "      <td>7.0</td>\n",
       "      <td>96</td>\n",
       "    </tr>\n",
       "    <tr>\n",
       "      <th>989</th>\n",
       "      <td>989</td>\n",
       "      <td>DVSGTVCLSALPPEATDTLNLIASDGPFPYSQDGVVFANRESVLPT...</td>\n",
       "      <td>55.6</td>\n",
       "      <td>NaN</td>\n",
       "      <td>5.5</td>\n",
       "      <td>96</td>\n",
       "    </tr>\n",
       "    <tr>\n",
       "      <th>1003</th>\n",
       "      <td>1003</td>\n",
       "      <td>DVSGTVCLSALPPEATDTLNLIASDGPFPYSQDGVVFQNRESTLPT...</td>\n",
       "      <td>48.4</td>\n",
       "      <td>NaN</td>\n",
       "      <td>7.0</td>\n",
       "      <td>96</td>\n",
       "    </tr>\n",
       "  </tbody>\n",
       "</table>\n",
       "</div>"
      ],
      "text/plain": [
       "      seq_id                                   protein_sequence    pH  \\\n",
       "973      973  DTSGTVCLSALPPEATDTLNLIASDGPFPYSQDGVVFQNRESVLPT...  48.4   \n",
       "986      986  DVSGTVCLSALPPEATDTLNLIASDGPFPYSQDGVTFQNRESVLPT...  48.4   \n",
       "988      988  DVSGTVCLSALPPEATDTLNLIASDGPFPYSQDGVVFANRESVLPT...  49.0   \n",
       "989      989  DVSGTVCLSALPPEATDTLNLIASDGPFPYSQDGVVFANRESVLPT...  55.6   \n",
       "1003    1003  DVSGTVCLSALPPEATDTLNLIASDGPFPYSQDGVVFQNRESTLPT...  48.4   \n",
       "\n",
       "     data_source   tm  protein_seq_length  \n",
       "973          NaN  7.0                  96  \n",
       "986          NaN  7.0                  96  \n",
       "988          NaN  7.0                  96  \n",
       "989          NaN  5.5                  96  \n",
       "1003         NaN  7.0                  96  "
      ]
     },
     "execution_count": 11,
     "metadata": {},
     "output_type": "execute_result"
    }
   ],
   "source": [
    "#filter pH values greater than 14\n",
    "ph_gt_14 = train_df[train_df['pH'] > 14]\n",
    "ph_gt_14.head(5)"
   ]
  },
  {
   "cell_type": "markdown",
   "id": "137e976c",
   "metadata": {},
   "source": [
    "* There are some data points which have pH col had been swapped with tm col. Luckily, there update data csv file had released by host, which we need to use them and fix our these data quality issues."
   ]
  },
  {
   "cell_type": "markdown",
   "id": "9cab1088",
   "metadata": {},
   "source": [
    "### Analyzing target col tm"
   ]
  },
  {
   "cell_type": "code",
   "execution_count": 12,
   "id": "6e8951c5",
   "metadata": {},
   "outputs": [
    {
     "data": {
      "image/png": "[encoded data removed]",
      "text/plain": [
       "<Figure size 500x500 with 1 Axes>"
      ]
     },
     "metadata": {},
     "output_type": "display_data"
    }
   ],
   "source": [
    "#plotting pH level in test data\n",
    "sns.displot(data=train_df,\n",
    "                x='tm',\n",
    "           kind='kde')#['hist', 'kde', 'ecdf']\n",
    "plt.title(\"Target column distribution\")\n",
    "plt.show();"
   ]
  },
  {
   "cell_type": "markdown",
   "id": "0c64924d",
   "metadata": {},
   "source": [
    "* The target 'tm' column is kind of normal distribution with mean at around 50"
   ]
  },
  {
   "cell_type": "code",
   "execution_count": 13,
   "id": "a4fce208",
   "metadata": {},
   "outputs": [],
   "source": [
    "#loading train_update data to fix train data\n",
    "train_updates_df = pd.read_csv('data/train_updates_20220929.csv')\n",
    "\n",
    "#sequence ids will be used to swap mapping tm and pH\n",
    "Nan_filter = pd.isna(train_updates_df['pH'])\n",
    "ids_pHtm_mapping = train_updates_df[~Nan_filter].groupby('seq_id')[['pH','tm']].first().to_dict('index')\n",
    "\n",
    "#sequence ids that will be drop due to data quality issues\n",
    "quality_filter = pd.isna(train_updates_df['pH'])\n",
    "bad_seq_ids = train_updates_df[quality_filter]['seq_id'].to_list()"
   ]
  },
  {
   "cell_type": "markdown",
   "id": "48410e5b",
   "metadata": {},
   "source": [
    "#### Example of data quality issue"
   ]
  },
  {
   "cell_type": "code",
   "execution_count": 14,
   "id": "734da8b0",
   "metadata": {},
   "outputs": [
    {
     "name": "stdout",
     "output_type": "stream",
     "text": [
      "\n",
      "...Examples of rows with quality issue...\n",
      "\n",
      "...rows duplicated with suspious values in tm and pH...\n",
      "\n"
     ]
    },
    {
     "data": {
      "text/html": [
       "<div>\n",
       "<style scoped>\n",
       "    .dataframe tbody tr th:only-of-type {\n",
       "        vertical-align: middle;\n",
       "    }\n",
       "\n",
       "    .dataframe tbody tr th {\n",
       "        vertical-align: top;\n",
       "    }\n",
       "\n",
       "    .dataframe thead th {\n",
       "        text-align: right;\n",
       "    }\n",
       "</style>\n",
       "<table border=\"1\" class=\"dataframe\">\n",
       "  <thead>\n",
       "    <tr style=\"text-align: right;\">\n",
       "      <th></th>\n",
       "      <th>seq_id</th>\n",
       "      <th>protein_sequence</th>\n",
       "      <th>pH</th>\n",
       "      <th>data_source</th>\n",
       "      <th>tm</th>\n",
       "      <th>protein_seq_length</th>\n",
       "    </tr>\n",
       "  </thead>\n",
       "  <tbody>\n",
       "    <tr>\n",
       "      <th>69</th>\n",
       "      <td>69</td>\n",
       "      <td>ADLEDNWETLNDNLKVIEKADNAAQVKDALTKARAAALDAQKATPP...</td>\n",
       "      <td>5.0</td>\n",
       "      <td>NaN</td>\n",
       "      <td>25.0</td>\n",
       "      <td>106</td>\n",
       "    </tr>\n",
       "    <tr>\n",
       "      <th>70</th>\n",
       "      <td>70</td>\n",
       "      <td>ADLEDNWETLNDNLKVIEKADNAAQVKDALTKMRAAALDAQKATPP...</td>\n",
       "      <td>5.0</td>\n",
       "      <td>NaN</td>\n",
       "      <td>25.0</td>\n",
       "      <td>106</td>\n",
       "    </tr>\n",
       "    <tr>\n",
       "      <th>71</th>\n",
       "      <td>71</td>\n",
       "      <td>ADLEDNWETLNDNLKVIEKADNAAQVKDALTKMRAAALDAQKATPP...</td>\n",
       "      <td>5.0</td>\n",
       "      <td>NaN</td>\n",
       "      <td>25.0</td>\n",
       "      <td>106</td>\n",
       "    </tr>\n",
       "    <tr>\n",
       "      <th>72</th>\n",
       "      <td>72</td>\n",
       "      <td>ADLEDNWETLNDNLKVIEKADNAAQVKDALTKMRAAALDAQKATPP...</td>\n",
       "      <td>5.0</td>\n",
       "      <td>NaN</td>\n",
       "      <td>25.0</td>\n",
       "      <td>106</td>\n",
       "    </tr>\n",
       "    <tr>\n",
       "      <th>73</th>\n",
       "      <td>73</td>\n",
       "      <td>ADLEDNWETLNDNLKVIEKADNAAQVKDALTKMRAAALDAQKATPP...</td>\n",
       "      <td>5.0</td>\n",
       "      <td>NaN</td>\n",
       "      <td>25.0</td>\n",
       "      <td>106</td>\n",
       "    </tr>\n",
       "  </tbody>\n",
       "</table>\n",
       "</div>"
      ],
      "text/plain": [
       "    seq_id                                   protein_sequence   pH  \\\n",
       "69      69  ADLEDNWETLNDNLKVIEKADNAAQVKDALTKARAAALDAQKATPP...  5.0   \n",
       "70      70  ADLEDNWETLNDNLKVIEKADNAAQVKDALTKMRAAALDAQKATPP...  5.0   \n",
       "71      71  ADLEDNWETLNDNLKVIEKADNAAQVKDALTKMRAAALDAQKATPP...  5.0   \n",
       "72      72  ADLEDNWETLNDNLKVIEKADNAAQVKDALTKMRAAALDAQKATPP...  5.0   \n",
       "73      73  ADLEDNWETLNDNLKVIEKADNAAQVKDALTKMRAAALDAQKATPP...  5.0   \n",
       "\n",
       "   data_source    tm  protein_seq_length  \n",
       "69         NaN  25.0                 106  \n",
       "70         NaN  25.0                 106  \n",
       "71         NaN  25.0                 106  \n",
       "72         NaN  25.0                 106  \n",
       "73         NaN  25.0                 106  "
      ]
     },
     "metadata": {},
     "output_type": "display_data"
    },
    {
     "name": "stdout",
     "output_type": "stream",
     "text": [
      "\n",
      "...Examples of rows where pH and tm have been swapped..\n",
      "\n"
     ]
    },
    {
     "data": {
      "text/html": [
       "<div>\n",
       "<style scoped>\n",
       "    .dataframe tbody tr th:only-of-type {\n",
       "        vertical-align: middle;\n",
       "    }\n",
       "\n",
       "    .dataframe tbody tr th {\n",
       "        vertical-align: top;\n",
       "    }\n",
       "\n",
       "    .dataframe thead th {\n",
       "        text-align: right;\n",
       "    }\n",
       "</style>\n",
       "<table border=\"1\" class=\"dataframe\">\n",
       "  <thead>\n",
       "    <tr style=\"text-align: right;\">\n",
       "      <th></th>\n",
       "      <th>seq_id</th>\n",
       "      <th>protein_sequence</th>\n",
       "      <th>pH</th>\n",
       "      <th>data_source</th>\n",
       "      <th>tm</th>\n",
       "      <th>protein_seq_length</th>\n",
       "    </tr>\n",
       "  </thead>\n",
       "  <tbody>\n",
       "    <tr>\n",
       "      <th>973</th>\n",
       "      <td>973</td>\n",
       "      <td>DTSGTVCLSALPPEATDTLNLIASDGPFPYSQDGVVFQNRESVLPT...</td>\n",
       "      <td>48.4</td>\n",
       "      <td>NaN</td>\n",
       "      <td>7.0</td>\n",
       "      <td>96</td>\n",
       "    </tr>\n",
       "    <tr>\n",
       "      <th>986</th>\n",
       "      <td>986</td>\n",
       "      <td>DVSGTVCLSALPPEATDTLNLIASDGPFPYSQDGVTFQNRESVLPT...</td>\n",
       "      <td>48.4</td>\n",
       "      <td>NaN</td>\n",
       "      <td>7.0</td>\n",
       "      <td>96</td>\n",
       "    </tr>\n",
       "    <tr>\n",
       "      <th>988</th>\n",
       "      <td>988</td>\n",
       "      <td>DVSGTVCLSALPPEATDTLNLIASDGPFPYSQDGVVFANRESVLPT...</td>\n",
       "      <td>49.0</td>\n",
       "      <td>NaN</td>\n",
       "      <td>7.0</td>\n",
       "      <td>96</td>\n",
       "    </tr>\n",
       "    <tr>\n",
       "      <th>989</th>\n",
       "      <td>989</td>\n",
       "      <td>DVSGTVCLSALPPEATDTLNLIASDGPFPYSQDGVVFANRESVLPT...</td>\n",
       "      <td>55.6</td>\n",
       "      <td>NaN</td>\n",
       "      <td>5.5</td>\n",
       "      <td>96</td>\n",
       "    </tr>\n",
       "    <tr>\n",
       "      <th>1003</th>\n",
       "      <td>1003</td>\n",
       "      <td>DVSGTVCLSALPPEATDTLNLIASDGPFPYSQDGVVFQNRESTLPT...</td>\n",
       "      <td>48.4</td>\n",
       "      <td>NaN</td>\n",
       "      <td>7.0</td>\n",
       "      <td>96</td>\n",
       "    </tr>\n",
       "  </tbody>\n",
       "</table>\n",
       "</div>"
      ],
      "text/plain": [
       "      seq_id                                   protein_sequence    pH  \\\n",
       "973      973  DTSGTVCLSALPPEATDTLNLIASDGPFPYSQDGVVFQNRESVLPT...  48.4   \n",
       "986      986  DVSGTVCLSALPPEATDTLNLIASDGPFPYSQDGVTFQNRESVLPT...  48.4   \n",
       "988      988  DVSGTVCLSALPPEATDTLNLIASDGPFPYSQDGVVFANRESVLPT...  49.0   \n",
       "989      989  DVSGTVCLSALPPEATDTLNLIASDGPFPYSQDGVVFANRESVLPT...  55.6   \n",
       "1003    1003  DVSGTVCLSALPPEATDTLNLIASDGPFPYSQDGVVFQNRESTLPT...  48.4   \n",
       "\n",
       "     data_source   tm  protein_seq_length  \n",
       "973          NaN  7.0                  96  \n",
       "986          NaN  7.0                  96  \n",
       "988          NaN  7.0                  96  \n",
       "989          NaN  5.5                  96  \n",
       "1003         NaN  7.0                  96  "
      ]
     },
     "metadata": {},
     "output_type": "display_data"
    }
   ],
   "source": [
    "#quality issue rows display base on train updates csv file provided\n",
    "print('\\n...Examples of rows with quality issue...')\n",
    "print('\\n...rows duplicated with suspious values in tm and pH...\\n')\n",
    "display(train_df[train_df['seq_id'].isin(bad_seq_ids)].head(5))\n",
    "\n",
    "print('\\n...Examples of rows where pH and tm have been swapped..\\n')\n",
    "display(train_df[train_df['pH']>14.0].head(5))"
   ]
  },
  {
   "cell_type": "markdown",
   "id": "cb9aa46e",
   "metadata": {},
   "source": [
    "### Fixing data"
   ]
  },
  {
   "cell_type": "code",
   "execution_count": 15,
   "id": "f761ed1b",
   "metadata": {},
   "outputs": [
    {
     "data": {
      "text/plain": [
       "(31390, 6)"
      ]
     },
     "execution_count": 15,
     "metadata": {},
     "output_type": "execute_result"
    }
   ],
   "source": [
    "train_df.shape"
   ]
  },
  {
   "cell_type": "code",
   "execution_count": 16,
   "id": "6a191063",
   "metadata": {},
   "outputs": [],
   "source": [
    "#drop all rows with suspious values mentioned above\n",
    "updated_train = train_df[~train_df['seq_id'].isin(bad_seq_ids)].reset_index(drop=True)"
   ]
  },
  {
   "cell_type": "code",
   "execution_count": 17,
   "id": "4de0a928",
   "metadata": {},
   "outputs": [],
   "source": [
    "#Define function to correct tm and pH have been swapped\n",
    "def fix_tm_pH(_row, update_map):\n",
    "    \"\"\"\n",
    "    Input: Function takes row and mapping dictionary\n",
    "    return: row swapped to correct value\n",
    "    \"\"\"\n",
    "    update_vals = update_map.get(_row['seq_id'], None)\n",
    "    if update_vals is not None:\n",
    "        _row['tm'] = update_vals['tm']\n",
    "        _row['pH'] = update_vals['pH']\n",
    "    \n",
    "    return _row"
   ]
  },
  {
   "cell_type": "code",
   "execution_count": 18,
   "id": "697011de",
   "metadata": {},
   "outputs": [
    {
     "data": {
      "text/plain": [
       "((28981, 6), 8798)"
      ]
     },
     "execution_count": 18,
     "metadata": {},
     "output_type": "execute_result"
    }
   ],
   "source": [
    "updated_train.shape, updated_train.protein_seq_length.max()"
   ]
  },
  {
   "cell_type": "code",
   "execution_count": 19,
   "id": "a7d4c01d",
   "metadata": {},
   "outputs": [],
   "source": [
    "#apply the function above to our data\n",
    "updated_train = updated_train.apply(lambda x: fix_tm_pH(x, ids_pHtm_mapping), axis=1)"
   ]
  },
  {
   "cell_type": "markdown",
   "id": "6291c2a7",
   "metadata": {},
   "source": [
    "### Checking data"
   ]
  },
  {
   "cell_type": "code",
   "execution_count": 20,
   "id": "b8ab736b",
   "metadata": {},
   "outputs": [
    {
     "name": "stdout",
     "output_type": "stream",
     "text": [
      "\n",
      "...Display all quality issues rows, they should be empty dataframe now\n",
      "\n",
      "...Examples of rows with quality issue...\n",
      "\n",
      "...rows duplicated with suspious values in tm and pH...\n"
     ]
    },
    {
     "data": {
      "text/html": [
       "<div>\n",
       "<style scoped>\n",
       "    .dataframe tbody tr th:only-of-type {\n",
       "        vertical-align: middle;\n",
       "    }\n",
       "\n",
       "    .dataframe tbody tr th {\n",
       "        vertical-align: top;\n",
       "    }\n",
       "\n",
       "    .dataframe thead th {\n",
       "        text-align: right;\n",
       "    }\n",
       "</style>\n",
       "<table border=\"1\" class=\"dataframe\">\n",
       "  <thead>\n",
       "    <tr style=\"text-align: right;\">\n",
       "      <th></th>\n",
       "      <th>seq_id</th>\n",
       "      <th>protein_sequence</th>\n",
       "      <th>pH</th>\n",
       "      <th>data_source</th>\n",
       "      <th>tm</th>\n",
       "      <th>protein_seq_length</th>\n",
       "    </tr>\n",
       "  </thead>\n",
       "  <tbody>\n",
       "  </tbody>\n",
       "</table>\n",
       "</div>"
      ],
      "text/plain": [
       "Empty DataFrame\n",
       "Columns: [seq_id, protein_sequence, pH, data_source, tm, protein_seq_length]\n",
       "Index: []"
      ]
     },
     "metadata": {},
     "output_type": "display_data"
    },
    {
     "name": "stdout",
     "output_type": "stream",
     "text": [
      "Empty dataframe, original data was fixed\n",
      "\n",
      "\n",
      "\n",
      "...Examples of rows where pH and tm have been swapped...\n"
     ]
    },
    {
     "data": {
      "text/html": [
       "<div>\n",
       "<style scoped>\n",
       "    .dataframe tbody tr th:only-of-type {\n",
       "        vertical-align: middle;\n",
       "    }\n",
       "\n",
       "    .dataframe tbody tr th {\n",
       "        vertical-align: top;\n",
       "    }\n",
       "\n",
       "    .dataframe thead th {\n",
       "        text-align: right;\n",
       "    }\n",
       "</style>\n",
       "<table border=\"1\" class=\"dataframe\">\n",
       "  <thead>\n",
       "    <tr style=\"text-align: right;\">\n",
       "      <th></th>\n",
       "      <th>seq_id</th>\n",
       "      <th>protein_sequence</th>\n",
       "      <th>pH</th>\n",
       "      <th>data_source</th>\n",
       "      <th>tm</th>\n",
       "      <th>protein_seq_length</th>\n",
       "    </tr>\n",
       "  </thead>\n",
       "  <tbody>\n",
       "  </tbody>\n",
       "</table>\n",
       "</div>"
      ],
      "text/plain": [
       "Empty DataFrame\n",
       "Columns: [seq_id, protein_sequence, pH, data_source, tm, protein_seq_length]\n",
       "Index: []"
      ]
     },
     "metadata": {},
     "output_type": "display_data"
    },
    {
     "name": "stdout",
     "output_type": "stream",
     "text": [
      "Empty dataframe, original data was fixed\n"
     ]
    }
   ],
   "source": [
    "#display all quality issues rows again\n",
    "print('\\n...Display all quality issues rows, they should be empty dataframe now')\n",
    "print('\\n...Examples of rows with quality issue...')\n",
    "print('\\n...rows duplicated with suspious values in tm and pH...')\n",
    "if display(updated_train[updated_train['seq_id'].isin(bad_seq_ids)].head(5)) == None:\n",
    "    print('Empty dataframe, original data was fixed\\n\\n')\n",
    "\n",
    "print('\\n...Examples of rows where pH and tm have been swapped...')\n",
    "if display(updated_train[updated_train['pH']>14.0].head(5)) == None:\n",
    "    print('Empty dataframe, original data was fixed')"
   ]
  },
  {
   "cell_type": "code",
   "execution_count": 21,
   "id": "cfaf06ef",
   "metadata": {},
   "outputs": [
    {
     "data": {
      "text/plain": [
       "8798"
      ]
     },
     "execution_count": 21,
     "metadata": {},
     "output_type": "execute_result"
    }
   ],
   "source": [
    "updated_train.protein_seq_length.max()"
   ]
  },
  {
   "cell_type": "code",
   "execution_count": 22,
   "id": "599e9696",
   "metadata": {},
   "outputs": [],
   "source": [
    "#save updated data\n",
    "updated_train.to_csv('data/updated_train.csv', index=False)"
   ]
  },
  {
   "cell_type": "markdown",
   "id": "bbec2ad6",
   "metadata": {},
   "source": [
    "### Base Model with XGBoost\n",
    "\n",
    "1. I will use baseline model to begin with, that will help to compare the later improvement model. \n",
    "\n",
    "2. I will treat this problem the same way as text problem, create features using a simple tf-idf vectorizer."
   ]
  },
  {
   "cell_type": "code",
   "execution_count": 23,
   "id": "8aa1ad61",
   "metadata": {},
   "outputs": [],
   "source": [
    "#split chars in protein seds\n",
    "updated_train = pd.read_csv('data/updated_train.csv')\n",
    "updated_train['letter'] = updated_train['protein_sequence'].apply(lambda x: ' '.join(list(x)))\n",
    "\n",
    "#updated_train = updated_train[updated_train['protein_seq_length'] < 2000]"
   ]
  },
  {
   "cell_type": "code",
   "execution_count": 24,
   "id": "7a033be1",
   "metadata": {},
   "outputs": [],
   "source": [
    "import warnings\n",
    "warnings.simplefilter('ignore')\n",
    "\n",
    "from sklearn.feature_extraction.text import TfidfVectorizer\n",
    "\n",
    "from sklearn.model_selection import train_test_split\n",
    "from xgboost import XGBRegressor as xgb\n",
    "from sklearn.pipeline import Pipeline"
   ]
  },
  {
   "cell_type": "code",
   "execution_count": 25,
   "id": "2c0b5cc3",
   "metadata": {},
   "outputs": [],
   "source": [
    "#instatiate vectorizer\n",
    "tfv = TfidfVectorizer(analyzer='char', \n",
    "                      stop_words=None)\n",
    "\n",
    "#instatiate xgboost model\n",
    "xgbst = xgb(n_estimators=100, learning_rate=0.1, max_depth=3, n_jobs = -1)"
   ]
  },
  {
   "cell_type": "code",
   "execution_count": 36,
   "id": "4568d85a",
   "metadata": {},
   "outputs": [
    {
     "data": {
      "text/plain": [
       "0    A A A A K A A A L A L L G E A P E V V D I W L ...\n",
       "1    A A A D G E P L H N E E E R A G A G Q V G R S ...\n",
       "Name: letter, dtype: object"
      ]
     },
     "execution_count": 36,
     "metadata": {},
     "output_type": "execute_result"
    }
   ],
   "source": [
    "updated_train.letter[0:2]"
   ]
  },
  {
   "cell_type": "code",
   "execution_count": 35,
   "id": "a3b40701",
   "metadata": {},
   "outputs": [
    {
     "data": {
      "text/plain": [
       "array([[0.9619578 , 0.12731794, 0.00397647, 0.03678074, 0.08487863,\n",
       "        0.03678074, 0.10751293, 0.00848786, 0.03961003, 0.0452686 ,\n",
       "        0.10468364, 0.0226343 , 0.01414644, 0.05092718, 0.01697573,\n",
       "        0.07073219, 0.03112216, 0.03961003, 0.10468364, 0.01131715,\n",
       "        0.00848786],\n",
       "       [0.95930237, 0.09424725, 0.        , 0.03365973, 0.17503061,\n",
       "        0.02019584, 0.06058752, 0.01346389, 0.04375765, 0.06395349,\n",
       "        0.07741738, 0.00673195, 0.02019584, 0.02692779, 0.07405141,\n",
       "        0.1009792 , 0.04712363, 0.04039168, 0.04375765, 0.01009792,\n",
       "        0.01009792]])"
      ]
     },
     "execution_count": 35,
     "metadata": {},
     "output_type": "execute_result"
    }
   ],
   "source": [
    "tfv.fit_transform(updated_train.letter[0:2]).toarray()"
   ]
  },
  {
   "cell_type": "code",
   "execution_count": 26,
   "id": "7ddd99ce",
   "metadata": {},
   "outputs": [],
   "source": [
    "#build pipeline\n",
    "nlp_pipeline = Pipeline([\n",
    "    ('preprocessing', tfv),\n",
    "    ('model', xgbst)\n",
    "])"
   ]
  },
  {
   "cell_type": "code",
   "execution_count": 27,
   "id": "a4184f7e",
   "metadata": {},
   "outputs": [],
   "source": [
    "#train test split\n",
    "X_train, X_test, y_train, y_test = train_test_split(updated_train.letter, updated_train.tm, \n",
    "                                                    test_size=0.20, random_state=44)"
   ]
  },
  {
   "cell_type": "code",
   "execution_count": null,
   "id": "0e308419",
   "metadata": {},
   "outputs": [],
   "source": []
  },
  {
   "cell_type": "code",
   "execution_count": 28,
   "id": "aa7a36fe",
   "metadata": {},
   "outputs": [
    {
     "data": {
      "text/html": [
       "<style>#sk-container-id-1 {color: black;background-color: white;}#sk-container-id-1 pre{padding: 0;}#sk-container-id-1 div.sk-toggleable {background-color: white;}#sk-container-id-1 label.sk-toggleable__label {cursor: pointer;display: block;width: 100%;margin-bottom: 0;padding: 0.3em;box-sizing: border-box;text-align: center;}#sk-container-id-1 label.sk-toggleable__label-arrow:before {content: \"▸\";float: left;margin-right: 0.25em;color: #696969;}#sk-container-id-1 label.sk-toggleable__label-arrow:hover:before {color: black;}#sk-container-id-1 div.sk-estimator:hover label.sk-toggleable__label-arrow:before {color: black;}#sk-container-id-1 div.sk-toggleable__content {max-height: 0;max-width: 0;overflow: hidden;text-align: left;background-color: #f0f8ff;}#sk-container-id-1 div.sk-toggleable__content pre {margin: 0.2em;color: black;border-radius: 0.25em;background-color: #f0f8ff;}#sk-container-id-1 input.sk-toggleable__control:checked~div.sk-toggleable__content {max-height: 200px;max-width: 100%;overflow: auto;}#sk-container-id-1 input.sk-toggleable__control:checked~label.sk-toggleable__label-arrow:before {content: \"▾\";}#sk-container-id-1 div.sk-estimator input.sk-toggleable__control:checked~label.sk-toggleable__label {background-color: #d4ebff;}#sk-container-id-1 div.sk-label input.sk-toggleable__control:checked~label.sk-toggleable__label {background-color: #d4ebff;}#sk-container-id-1 input.sk-hidden--visually {border: 0;clip: rect(1px 1px 1px 1px);clip: rect(1px, 1px, 1px, 1px);height: 1px;margin: -1px;overflow: hidden;padding: 0;position: absolute;width: 1px;}#sk-container-id-1 div.sk-estimator {font-family: monospace;background-color: #f0f8ff;border: 1px dotted black;border-radius: 0.25em;box-sizing: border-box;margin-bottom: 0.5em;}#sk-container-id-1 div.sk-estimator:hover {background-color: #d4ebff;}#sk-container-id-1 div.sk-parallel-item::after {content: \"\";width: 100%;border-bottom: 1px solid gray;flex-grow: 1;}#sk-container-id-1 div.sk-label:hover label.sk-toggleable__label {background-color: #d4ebff;}#sk-container-id-1 div.sk-serial::before {content: \"\";position: absolute;border-left: 1px solid gray;box-sizing: border-box;top: 0;bottom: 0;left: 50%;z-index: 0;}#sk-container-id-1 div.sk-serial {display: flex;flex-direction: column;align-items: center;background-color: white;padding-right: 0.2em;padding-left: 0.2em;position: relative;}#sk-container-id-1 div.sk-item {position: relative;z-index: 1;}#sk-container-id-1 div.sk-parallel {display: flex;align-items: stretch;justify-content: center;background-color: white;position: relative;}#sk-container-id-1 div.sk-item::before, #sk-container-id-1 div.sk-parallel-item::before {content: \"\";position: absolute;border-left: 1px solid gray;box-sizing: border-box;top: 0;bottom: 0;left: 50%;z-index: -1;}#sk-container-id-1 div.sk-parallel-item {display: flex;flex-direction: column;z-index: 1;position: relative;background-color: white;}#sk-container-id-1 div.sk-parallel-item:first-child::after {align-self: flex-end;width: 50%;}#sk-container-id-1 div.sk-parallel-item:last-child::after {align-self: flex-start;width: 50%;}#sk-container-id-1 div.sk-parallel-item:only-child::after {width: 0;}#sk-container-id-1 div.sk-dashed-wrapped {border: 1px dashed gray;margin: 0 0.4em 0.5em 0.4em;box-sizing: border-box;padding-bottom: 0.4em;background-color: white;}#sk-container-id-1 div.sk-label label {font-family: monospace;font-weight: bold;display: inline-block;line-height: 1.2em;}#sk-container-id-1 div.sk-label-container {text-align: center;}#sk-container-id-1 div.sk-container {/* jupyter's `normalize.less` sets `[hidden] { display: none; }` but bootstrap.min.css set `[hidden] { display: none !important; }` so we also need the `!important` here to be able to override the default hidden behavior on the sphinx rendered scikit-learn.org. See: https://github.com/scikit-learn/scikit-learn/issues/21755 */display: inline-block !important;position: relative;}#sk-container-id-1 div.sk-text-repr-fallback {display: none;}</style><div id=\"sk-container-id-1\" class=\"sk-top-container\"><div class=\"sk-text-repr-fallback\"><pre>Pipeline(steps=[(&#x27;preprocessing&#x27;, TfidfVectorizer(analyzer=&#x27;char&#x27;)),\n",
       "                (&#x27;model&#x27;,\n",
       "                 XGBRegressor(base_score=0.5, booster=&#x27;gbtree&#x27;, callbacks=None,\n",
       "                              colsample_bylevel=1, colsample_bynode=1,\n",
       "                              colsample_bytree=1, early_stopping_rounds=None,\n",
       "                              enable_categorical=False, eval_metric=None,\n",
       "                              gamma=0, gpu_id=-1, grow_policy=&#x27;depthwise&#x27;,\n",
       "                              importance_type=None, interaction_constraints=&#x27;&#x27;,\n",
       "                              learning_rate=0.1, max_bin=256,\n",
       "                              max_cat_to_onehot=4, max_delta_step=0,\n",
       "                              max_depth=3, max_leaves=0, min_child_weight=1,\n",
       "                              missing=nan, monotone_constraints=&#x27;()&#x27;,\n",
       "                              n_estimators=100, n_jobs=-1, num_parallel_tree=1,\n",
       "                              predictor=&#x27;auto&#x27;, random_state=0, reg_alpha=0,\n",
       "                              reg_lambda=1, ...))])</pre><b>In a Jupyter environment, please rerun this cell to show the HTML representation or trust the notebook. <br />On GitHub, the HTML representation is unable to render, please try loading this page with nbviewer.org.</b></div><div class=\"sk-container\" hidden><div class=\"sk-item sk-dashed-wrapped\"><div class=\"sk-label-container\"><div class=\"sk-label sk-toggleable\"><input class=\"sk-toggleable__control sk-hidden--visually\" id=\"sk-estimator-id-1\" type=\"checkbox\" ><label for=\"sk-estimator-id-1\" class=\"sk-toggleable__label sk-toggleable__label-arrow\">Pipeline</label><div class=\"sk-toggleable__content\"><pre>Pipeline(steps=[(&#x27;preprocessing&#x27;, TfidfVectorizer(analyzer=&#x27;char&#x27;)),\n",
       "                (&#x27;model&#x27;,\n",
       "                 XGBRegressor(base_score=0.5, booster=&#x27;gbtree&#x27;, callbacks=None,\n",
       "                              colsample_bylevel=1, colsample_bynode=1,\n",
       "                              colsample_bytree=1, early_stopping_rounds=None,\n",
       "                              enable_categorical=False, eval_metric=None,\n",
       "                              gamma=0, gpu_id=-1, grow_policy=&#x27;depthwise&#x27;,\n",
       "                              importance_type=None, interaction_constraints=&#x27;&#x27;,\n",
       "                              learning_rate=0.1, max_bin=256,\n",
       "                              max_cat_to_onehot=4, max_delta_step=0,\n",
       "                              max_depth=3, max_leaves=0, min_child_weight=1,\n",
       "                              missing=nan, monotone_constraints=&#x27;()&#x27;,\n",
       "                              n_estimators=100, n_jobs=-1, num_parallel_tree=1,\n",
       "                              predictor=&#x27;auto&#x27;, random_state=0, reg_alpha=0,\n",
       "                              reg_lambda=1, ...))])</pre></div></div></div><div class=\"sk-serial\"><div class=\"sk-item\"><div class=\"sk-estimator sk-toggleable\"><input class=\"sk-toggleable__control sk-hidden--visually\" id=\"sk-estimator-id-2\" type=\"checkbox\" ><label for=\"sk-estimator-id-2\" class=\"sk-toggleable__label sk-toggleable__label-arrow\">TfidfVectorizer</label><div class=\"sk-toggleable__content\"><pre>TfidfVectorizer(analyzer=&#x27;char&#x27;)</pre></div></div></div><div class=\"sk-item\"><div class=\"sk-estimator sk-toggleable\"><input class=\"sk-toggleable__control sk-hidden--visually\" id=\"sk-estimator-id-3\" type=\"checkbox\" ><label for=\"sk-estimator-id-3\" class=\"sk-toggleable__label sk-toggleable__label-arrow\">XGBRegressor</label><div class=\"sk-toggleable__content\"><pre>XGBRegressor(base_score=0.5, booster=&#x27;gbtree&#x27;, callbacks=None,\n",
       "             colsample_bylevel=1, colsample_bynode=1, colsample_bytree=1,\n",
       "             early_stopping_rounds=None, enable_categorical=False,\n",
       "             eval_metric=None, gamma=0, gpu_id=-1, grow_policy=&#x27;depthwise&#x27;,\n",
       "             importance_type=None, interaction_constraints=&#x27;&#x27;,\n",
       "             learning_rate=0.1, max_bin=256, max_cat_to_onehot=4,\n",
       "             max_delta_step=0, max_depth=3, max_leaves=0, min_child_weight=1,\n",
       "             missing=nan, monotone_constraints=&#x27;()&#x27;, n_estimators=100,\n",
       "             n_jobs=-1, num_parallel_tree=1, predictor=&#x27;auto&#x27;, random_state=0,\n",
       "             reg_alpha=0, reg_lambda=1, ...)</pre></div></div></div></div></div></div></div>"
      ],
      "text/plain": [
       "Pipeline(steps=[('preprocessing', TfidfVectorizer(analyzer='char')),\n",
       "                ('model',\n",
       "                 XGBRegressor(base_score=0.5, booster='gbtree', callbacks=None,\n",
       "                              colsample_bylevel=1, colsample_bynode=1,\n",
       "                              colsample_bytree=1, early_stopping_rounds=None,\n",
       "                              enable_categorical=False, eval_metric=None,\n",
       "                              gamma=0, gpu_id=-1, grow_policy='depthwise',\n",
       "                              importance_type=None, interaction_constraints='',\n",
       "                              learning_rate=0.1, max_bin=256,\n",
       "                              max_cat_to_onehot=4, max_delta_step=0,\n",
       "                              max_depth=3, max_leaves=0, min_child_weight=1,\n",
       "                              missing=nan, monotone_constraints='()',\n",
       "                              n_estimators=100, n_jobs=-1, num_parallel_tree=1,\n",
       "                              predictor='auto', random_state=0, reg_alpha=0,\n",
       "                              reg_lambda=1, ...))])"
      ]
     },
     "execution_count": 28,
     "metadata": {},
     "output_type": "execute_result"
    }
   ],
   "source": [
    "#fit pipeline\n",
    "nlp_pipeline.fit(X_train, y_train)"
   ]
  },
  {
   "cell_type": "code",
   "execution_count": 29,
   "id": "6963b645",
   "metadata": {},
   "outputs": [
    {
     "name": "stdout",
     "output_type": "stream",
     "text": [
      "Train accuracy:\t0.5368169905105222\n",
      "Test accuracy:\t0.5045570693315585\n",
      "SpearmanrResult(correlation=0.4725475085340368, pvalue=0.0)\n",
      "Mean square error:\t8.40878399429496\n"
     ]
    }
   ],
   "source": [
    "train_accuracy = nlp_pipeline.score(X_train,y_train)\n",
    "test_accuracy = nlp_pipeline.score(X_test,y_test)\n",
    "\n",
    "print(f'Train accuracy:\\t{train_accuracy}')\n",
    "print(f'Test accuracy:\\t{test_accuracy}')\n",
    "\n",
    "#spearman's rank correlation coefficient\n",
    "from scipy import stats\n",
    "print(stats.spearmanr(y_test, nlp_pipeline.predict(X_test)))\n",
    "\n",
    "#mean square error\n",
    "import sklearn\n",
    "rmse = sklearn.metrics.mean_squared_error(nlp_pipeline.predict(X_test),y_test,squared=False)\n",
    "print(f'Mean square error:\\t{rmse}')"
   ]
  },
  {
   "cell_type": "markdown",
   "id": "3f2018cf",
   "metadata": {},
   "source": [
    "This baseline model's performance is not good. The model is overfitting, because I did tfid vectorizer created thousands of features(variables). We need to reduce features and improve this model by extracting properties of protein sequences and use it as features instead of doing tfid vectorizer alone"
   ]
  },
  {
   "cell_type": "code",
   "execution_count": null,
   "id": "833cd2e8",
   "metadata": {},
   "outputs": [],
   "source": []
  }
 ],
 "metadata": {
  "kernelspec": {
   "display_name": "Python 3.8 (tensorflow)",
   "language": "python",
   "name": "lighthouse"
  },
  "language_info": {
   "codemirror_mode": {
    "name": "ipython",
    "version": 3
   },
   "file_extension": ".py",
   "mimetype": "text/x-python",
   "name": "python",
   "nbconvert_exporter": "python",
   "pygments_lexer": "ipython3",
   "version": "3.9.13"
  }
 },
 "nbformat": 4,
 "nbformat_minor": 5
}
